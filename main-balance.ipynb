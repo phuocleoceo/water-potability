{
 "cells": [
  {
   "cell_type": "markdown",
   "metadata": {},
   "source": [
    "# Bài toán dự đoán chất lượng nước \n",
    "Link dataset : https://www.kaggle.com/datasets/adityakadiwal/water-potability"
   ]
  },
  {
   "cell_type": "markdown",
   "metadata": {},
   "source": [
    "### Các cột trong Dataset : \n",
    "ph                 : độ PH của nước (0 đến 14)\\\n",
    "Hardness           : Tỉ lệ các ion nước cứng có thể kết tủa(mg/L)\\\n",
    "Solids             : Lượng chất rắn hòa tan (ppm)\\\n",
    "Chloramines        : Lượng Chloramine (ppm)\\\n",
    "Sulfate            : Tỉ lệ SO4(2-) hòa tan (mg/L)\\\n",
    "Conductivity       : Độ dẫn điện của nước (μS/cm)\\\n",
    "Organic_carbon     : Lượng cacbon hữu cơ hòa tan (ppm)\\\n",
    "Trihalomethanes    : Lượng Trihalomethane hòa tan (μg/L)\\\n",
    "Turbidity          : Độ đục của nước \\\n",
    "Potability         : Chất lượng nước ( 0 : không an toàn, 1 : an toàn)"
   ]
  },
  {
   "cell_type": "markdown",
   "metadata": {},
   "source": [
    "### Nạp các thư viện cần thiết"
   ]
  },
  {
   "cell_type": "code",
   "execution_count": 109,
   "metadata": {},
   "outputs": [],
   "source": [
    "from sklearn.model_selection import (train_test_split, cross_val_score, \n",
    "                                    RandomizedSearchCV, GridSearchCV)\n",
    "from sklearn.linear_model import LogisticRegression\n",
    "from sklearn.ensemble import RandomForestClassifier\n",
    "from sklearn.preprocessing import StandardScaler\n",
    "from sklearn.utils import resample, shuffle\n",
    "from sklearn.metrics import accuracy_score\n",
    "from numpy.random import choice\n",
    "import matplotlib.pyplot as plt\n",
    "from scipy.stats import randint\n",
    "import seaborn as sns\n",
    "import pandas as pd\n",
    "import numpy as np\n",
    "\n",
    "np.random.seed(561)\n",
    "sns.set(rc={\"figure.figsize\":(10, 8)})"
   ]
  },
  {
   "cell_type": "code",
   "execution_count": 110,
   "metadata": {},
   "outputs": [
    {
     "data": {
      "text/html": [
       "<div>\n",
       "<style scoped>\n",
       "    .dataframe tbody tr th:only-of-type {\n",
       "        vertical-align: middle;\n",
       "    }\n",
       "\n",
       "    .dataframe tbody tr th {\n",
       "        vertical-align: top;\n",
       "    }\n",
       "\n",
       "    .dataframe thead th {\n",
       "        text-align: right;\n",
       "    }\n",
       "</style>\n",
       "<table border=\"1\" class=\"dataframe\">\n",
       "  <thead>\n",
       "    <tr style=\"text-align: right;\">\n",
       "      <th></th>\n",
       "      <th>ph</th>\n",
       "      <th>Hardness</th>\n",
       "      <th>Solids</th>\n",
       "      <th>Chloramines</th>\n",
       "      <th>Sulfate</th>\n",
       "      <th>Conductivity</th>\n",
       "      <th>Organic_carbon</th>\n",
       "      <th>Trihalomethanes</th>\n",
       "      <th>Turbidity</th>\n",
       "      <th>Potability</th>\n",
       "    </tr>\n",
       "  </thead>\n",
       "  <tbody>\n",
       "    <tr>\n",
       "      <th>0</th>\n",
       "      <td>NaN</td>\n",
       "      <td>204.890455</td>\n",
       "      <td>20791.318981</td>\n",
       "      <td>7.300212</td>\n",
       "      <td>368.516441</td>\n",
       "      <td>564.308654</td>\n",
       "      <td>10.379783</td>\n",
       "      <td>86.990970</td>\n",
       "      <td>2.963135</td>\n",
       "      <td>0</td>\n",
       "    </tr>\n",
       "    <tr>\n",
       "      <th>1</th>\n",
       "      <td>3.716080</td>\n",
       "      <td>129.422921</td>\n",
       "      <td>18630.057858</td>\n",
       "      <td>6.635246</td>\n",
       "      <td>NaN</td>\n",
       "      <td>592.885359</td>\n",
       "      <td>15.180013</td>\n",
       "      <td>56.329076</td>\n",
       "      <td>4.500656</td>\n",
       "      <td>0</td>\n",
       "    </tr>\n",
       "    <tr>\n",
       "      <th>2</th>\n",
       "      <td>8.099124</td>\n",
       "      <td>224.236259</td>\n",
       "      <td>19909.541732</td>\n",
       "      <td>9.275884</td>\n",
       "      <td>NaN</td>\n",
       "      <td>418.606213</td>\n",
       "      <td>16.868637</td>\n",
       "      <td>66.420093</td>\n",
       "      <td>3.055934</td>\n",
       "      <td>0</td>\n",
       "    </tr>\n",
       "    <tr>\n",
       "      <th>3</th>\n",
       "      <td>8.316766</td>\n",
       "      <td>214.373394</td>\n",
       "      <td>22018.417441</td>\n",
       "      <td>8.059332</td>\n",
       "      <td>356.886136</td>\n",
       "      <td>363.266516</td>\n",
       "      <td>18.436524</td>\n",
       "      <td>100.341674</td>\n",
       "      <td>4.628771</td>\n",
       "      <td>0</td>\n",
       "    </tr>\n",
       "    <tr>\n",
       "      <th>4</th>\n",
       "      <td>9.092223</td>\n",
       "      <td>181.101509</td>\n",
       "      <td>17978.986339</td>\n",
       "      <td>6.546600</td>\n",
       "      <td>310.135738</td>\n",
       "      <td>398.410813</td>\n",
       "      <td>11.558279</td>\n",
       "      <td>31.997993</td>\n",
       "      <td>4.075075</td>\n",
       "      <td>0</td>\n",
       "    </tr>\n",
       "  </tbody>\n",
       "</table>\n",
       "</div>"
      ],
      "text/plain": [
       "         ph    Hardness        Solids  Chloramines     Sulfate  Conductivity  \\\n",
       "0       NaN  204.890455  20791.318981     7.300212  368.516441    564.308654   \n",
       "1  3.716080  129.422921  18630.057858     6.635246         NaN    592.885359   \n",
       "2  8.099124  224.236259  19909.541732     9.275884         NaN    418.606213   \n",
       "3  8.316766  214.373394  22018.417441     8.059332  356.886136    363.266516   \n",
       "4  9.092223  181.101509  17978.986339     6.546600  310.135738    398.410813   \n",
       "\n",
       "   Organic_carbon  Trihalomethanes  Turbidity  Potability  \n",
       "0       10.379783        86.990970   2.963135           0  \n",
       "1       15.180013        56.329076   4.500656           0  \n",
       "2       16.868637        66.420093   3.055934           0  \n",
       "3       18.436524       100.341674   4.628771           0  \n",
       "4       11.558279        31.997993   4.075075           0  "
      ]
     },
     "execution_count": 110,
     "metadata": {},
     "output_type": "execute_result"
    }
   ],
   "source": [
    "dataset = pd.read_csv(\"./water_potability.csv\")\n",
    "dataset.head()"
   ]
  },
  {
   "cell_type": "code",
   "execution_count": 111,
   "metadata": {},
   "outputs": [
    {
     "name": "stdout",
     "output_type": "stream",
     "text": [
      "Kích thước dataset :  (3276, 10)\n"
     ]
    }
   ],
   "source": [
    "print(\"Kích thước dataset : \", dataset.shape)"
   ]
  },
  {
   "cell_type": "markdown",
   "metadata": {},
   "source": [
    "## Xử lý dữ liệu trống"
   ]
  },
  {
   "cell_type": "code",
   "execution_count": 112,
   "metadata": {},
   "outputs": [
    {
     "data": {
      "text/plain": [
       "ph                 491\n",
       "Hardness             0\n",
       "Solids               0\n",
       "Chloramines          0\n",
       "Sulfate            781\n",
       "Conductivity         0\n",
       "Organic_carbon       0\n",
       "Trihalomethanes    162\n",
       "Turbidity            0\n",
       "Potability           0\n",
       "dtype: int64"
      ]
     },
     "execution_count": 112,
     "metadata": {},
     "output_type": "execute_result"
    }
   ],
   "source": [
    "dataset.isnull().sum()"
   ]
  },
  {
   "cell_type": "code",
   "execution_count": 113,
   "metadata": {},
   "outputs": [
    {
     "name": "stdout",
     "output_type": "stream",
     "text": [
      "(2011, 10)\n",
      "ph                 0\n",
      "Hardness           0\n",
      "Solids             0\n",
      "Chloramines        0\n",
      "Sulfate            0\n",
      "Conductivity       0\n",
      "Organic_carbon     0\n",
      "Trihalomethanes    0\n",
      "Turbidity          0\n",
      "Potability         0\n",
      "dtype: int64\n"
     ]
    }
   ],
   "source": [
    "dataset.dropna(axis=0, inplace=True)\n",
    "print(dataset.shape)\n",
    "print(dataset.isna().sum())"
   ]
  },
  {
   "cell_type": "markdown",
   "metadata": {},
   "source": [
    "## Xử lý dữ liệu mất cân bằng"
   ]
  },
  {
   "cell_type": "code",
   "execution_count": 114,
   "metadata": {},
   "outputs": [
    {
     "data": {
      "text/plain": [
       "<AxesSubplot:xlabel='Potability', ylabel='count'>"
      ]
     },
     "execution_count": 114,
     "metadata": {},
     "output_type": "execute_result"
    },
    {
     "data": {
      "image/png": "[encoded data removed]",
      "text/plain": [
       "<Figure size 288x288 with 1 Axes>"
      ]
     },
     "metadata": {},
     "output_type": "display_data"
    }
   ],
   "source": [
    "plt.figure(figsize=(4, 4))\n",
    "sns.countplot(data=dataset, x=\"Potability\")"
   ]
  },
  {
   "cell_type": "code",
   "execution_count": 115,
   "metadata": {},
   "outputs": [],
   "source": [
    "dirty_water = dataset[dataset[\"Potability\"] == 0]  \n",
    "clean_water = dataset[dataset[\"Potability\"] == 1]  \n",
    "# Resample lại tập clean_water sao cho số phần từ của nó bằng số phần tử tập dirty_water\n",
    "one_upsampled = resample(clean_water, replace=True, n_samples=len(dirty_water))\n",
    "# Nối tập vừa resample với tập dirty_water\n",
    "dataset = pd.concat([dirty_water, one_upsampled])\n",
    "# Xáo trộn ngẫu nhiên lại dataset\n",
    "dataset = shuffle(dataset)  "
   ]
  },
  {
   "cell_type": "code",
   "execution_count": 116,
   "metadata": {},
   "outputs": [
    {
     "data": {
      "text/plain": [
       "<AxesSubplot:xlabel='Potability', ylabel='count'>"
      ]
     },
     "execution_count": 116,
     "metadata": {},
     "output_type": "execute_result"
    },
    {
     "data": {
      "image/png": "[encoded data removed]",
      "text/plain": [
       "<Figure size 288x288 with 1 Axes>"
      ]
     },
     "metadata": {},
     "output_type": "display_data"
    }
   ],
   "source": [
    "plt.figure(figsize=(4, 4))\n",
    "sns.countplot(data=dataset, x=\"Potability\")"
   ]
  },
  {
   "cell_type": "markdown",
   "metadata": {},
   "source": [
    "## Chia dữ liệu Train / Test"
   ]
  },
  {
   "cell_type": "markdown",
   "metadata": {},
   "source": [
    "Chia theo tỉ lệ 20/80, stratify theo Potability để tỉ lệ nước uống được/không uống được bằng nhau ở 2 tập train và test"
   ]
  },
  {
   "cell_type": "code",
   "execution_count": 117,
   "metadata": {},
   "outputs": [
    {
     "data": {
      "text/plain": [
       "((1920, 9), (480, 9))"
      ]
     },
     "execution_count": 117,
     "metadata": {},
     "output_type": "execute_result"
    }
   ],
   "source": [
    "X_train, X_test, Y_train, Y_test=train_test_split(\n",
    "    dataset[[\"ph\", \"Hardness\", \"Solids\", \"Chloramines\", \"Sulfate\", \"Conductivity\", \"Organic_carbon\", \"Trihalomethanes\", \"Turbidity\"]].fillna(0),\n",
    "    dataset[\"Potability\"],test_size=0.2, random_state=0, stratify=dataset[\"Potability\"])\n",
    "\n",
    "X_train.shape, X_test.shape"
   ]
  },
  {
   "cell_type": "code",
   "execution_count": 118,
   "metadata": {},
   "outputs": [
    {
     "data": {
      "text/plain": [
       "<AxesSubplot:ylabel='Potability'>"
      ]
     },
     "execution_count": 118,
     "metadata": {},
     "output_type": "execute_result"
    },
    {
     "data": {
      "image/png": "[encoded data removed]",
      "text/plain": [
       "<Figure size 576x576 with 2 Axes>"
      ]
     },
     "metadata": {},
     "output_type": "display_data"
    }
   ],
   "source": [
    "plt.subplot(1, 2, 1)\n",
    "Y_train_percent = Y_train.value_counts()\n",
    "Y_train_percent.plot.pie(figsize=(8, 8), shadow=True, autopct='%1.2f%%')\n",
    "\n",
    "plt.subplot(1, 2, 2)\n",
    "Y_test_percent = Y_test.value_counts()\n",
    "Y_test_percent.plot.pie(figsize=(8, 8), shadow=True, autopct='%1.2f%%')"
   ]
  },
  {
   "cell_type": "markdown",
   "metadata": {},
   "source": [
    "## Xử lý Outlier cho tập Train, tập Test giữ nguyên Outlier : "
   ]
  },
  {
   "cell_type": "code",
   "execution_count": 119,
   "metadata": {},
   "outputs": [],
   "source": [
    "# plt.figure(figsize=(20, 5))\n",
    "# sns.boxplot(data=X_train, orient=\"h\")"
   ]
  },
  {
   "cell_type": "code",
   "execution_count": 120,
   "metadata": {},
   "outputs": [],
   "source": [
    "X_columns = list(X_train.columns)"
   ]
  },
  {
   "cell_type": "code",
   "execution_count": 121,
   "metadata": {},
   "outputs": [],
   "source": [
    "# plt.figure(figsize=(20, 7))\n",
    "# for i in range(9):\n",
    "#     plt.subplot(2, 5, i+1)\n",
    "#     sns.kdeplot(X_train[X_columns[i]].dropna())"
   ]
  },
  {
   "cell_type": "markdown",
   "metadata": {},
   "source": [
    "Ta thấy mọi cột dữ liệu đều có dạng phân bố chuẩn"
   ]
  },
  {
   "cell_type": "code",
   "execution_count": 122,
   "metadata": {},
   "outputs": [],
   "source": [
    "def Remove_Outlier(dataset):\n",
    "    data = dataset.copy()\n",
    "    for col in X_columns:\n",
    "        lower_boundary = round(data[col].mean() - 3* data[col].std())\n",
    "        upper_boundary = round(data[col].mean() + 3 * data[col].std())\n",
    "        data.loc[data[col] <= lower_boundary, col] = lower_boundary\n",
    "        data.loc[data[col]>=upper_boundary, col] = upper_boundary\n",
    "    return data"
   ]
  },
  {
   "cell_type": "code",
   "execution_count": 123,
   "metadata": {},
   "outputs": [
    {
     "data": {
      "text/plain": [
       "(1920, 9)"
      ]
     },
     "execution_count": 123,
     "metadata": {},
     "output_type": "execute_result"
    }
   ],
   "source": [
    "X_train_outlier = Remove_Outlier(X_train)\n",
    "X_train_outlier.shape"
   ]
  },
  {
   "cell_type": "markdown",
   "metadata": {},
   "source": [
    "## Tương quan giữa các biến"
   ]
  },
  {
   "cell_type": "code",
   "execution_count": 124,
   "metadata": {},
   "outputs": [
    {
     "data": {
      "text/plain": [
       "<AxesSubplot:title={'center':'Bản đồ nhiệt tương quan giữa các biến'}>"
      ]
     },
     "execution_count": 124,
     "metadata": {},
     "output_type": "execute_result"
    },
    {
     "data": {
      "image/png": "[encoded data removed]",
      "text/plain": [
       "<Figure size 576x504 with 2 Axes>"
      ]
     },
     "metadata": {},
     "output_type": "display_data"
    }
   ],
   "source": [
    "plt.figure(figsize=(8, 7))\n",
    "plt.title(\"Bản đồ nhiệt tương quan giữa các biến\")\n",
    "sns.heatmap(dataset.corr().round(2), data=dataset, annot=True, vmin=-1.0, vmax=1.0, center=0, cmap='RdBu_r')"
   ]
  },
  {
   "cell_type": "markdown",
   "metadata": {},
   "source": [
    "Các biến có mức độ tương quan thấp"
   ]
  },
  {
   "cell_type": "markdown",
   "metadata": {},
   "source": [
    "## Chuẩn hóa Z-score"
   ]
  },
  {
   "cell_type": "code",
   "execution_count": 125,
   "metadata": {},
   "outputs": [],
   "source": [
    "X_test_outlier = X_test.copy()\n",
    "\n",
    "# Hàm chuẩn hóa\n",
    "scaler = StandardScaler()\n",
    "scaler.fit(X_train)\n",
    "X_train = pd.DataFrame(scaler.transform(X_train), columns=X_train.columns)\n",
    "# Sử dụng lại chính scaler của tập Train để chuẩn hóa cho tập Test\n",
    "X_test = pd.DataFrame(scaler.transform(X_test), columns=X_test.columns)\n",
    "\n",
    "# Hàm chuẩn hóa\n",
    "scaler = StandardScaler()\n",
    "scaler.fit(X_train_outlier)\n",
    "X_train_outlier = pd.DataFrame(scaler.transform(X_train_outlier), columns=X_train_outlier.columns)\n",
    "# Sử dụng lại chính scaler của tập Train để chuẩn hóa cho tập Test\n",
    "X_test_outlier = pd.DataFrame(scaler.transform(X_test_outlier), columns=X_test_outlier.columns)"
   ]
  },
  {
   "cell_type": "markdown",
   "metadata": {},
   "source": [
    "## Hyperparameter Tuning"
   ]
  },
  {
   "cell_type": "code",
   "execution_count": 126,
   "metadata": {},
   "outputs": [],
   "source": [
    "def acc(accuracy):\n",
    "    return f\"{round(accuracy*100, 2)} (%)\""
   ]
  },
  {
   "cell_type": "code",
   "execution_count": 127,
   "metadata": {},
   "outputs": [
    {
     "name": "stdout",
     "output_type": "stream",
     "text": [
      ">> Best : 77.97 (%) using {'max_depth': 188, 'min_samples_leaf': 2, 'n_estimators': 15}\n",
      ">> Test set : 78.33 (%)\n",
      ">> Best : 78.02 (%) using {'max_depth': 188, 'min_samples_leaf': 2, 'n_estimators': 15}\n",
      ">> Test set : 78.33 (%)\n"
     ]
    }
   ],
   "source": [
    "def hyperparameter_tuning_rfc(XTrain, YTrain, XTest, YTest):\n",
    "    random_forest = RandomForestClassifier(random_state=0)\n",
    "    params = {\n",
    "              \"n_estimators\": randint(5, 20),\n",
    "              \"max_depth\": randint(100, 500),\n",
    "              \"min_samples_leaf\": [2, 10, 30]\n",
    "             }\n",
    "    search = RandomizedSearchCV(estimator=random_forest,\n",
    "                                param_distributions=params,\n",
    "                                n_iter=5,\n",
    "                                random_state=0,\n",
    "                                n_jobs=-1)\n",
    "    search.fit(XTrain, YTrain)\n",
    "    # Kết quả Tuning tốt nhất\n",
    "    print(f\">> Best : {acc(search.best_score_)} using {search.best_params_}\")\n",
    "    print(f\">> Test set : {acc(search.score(XTest, YTest))}\")\n",
    "\n",
    "\n",
    "hyperparameter_tuning_rfc(X_train, Y_train, X_test, Y_test)\n",
    "hyperparameter_tuning_rfc(X_train_outlier, Y_train, X_test_outlier, Y_test)"
   ]
  },
  {
   "cell_type": "code",
   "execution_count": 128,
   "metadata": {},
   "outputs": [],
   "source": [
    "# def hyperparameter_tuning_rfc2(XTrain, YTrain, XTest, YTest):\n",
    "#     random_forest = RandomForestClassifier()\n",
    "#     params = {\n",
    "#         'n_estimators': [100, 200, 350, 500], \n",
    "#         'min_samples_leaf': [2, 10, 30]\n",
    "#     }\n",
    "#     search = GridSearchCV(estimator=random_forest, param_grid=params, cv=5, n_jobs=-1)\n",
    "#     search.fit(XTrain, YTrain)\n",
    "#     # Kết quả Tuning tốt nhất\n",
    "#     print(f\">> Best : {acc(search.best_score_)} using {search.best_params_}\")\n",
    "#     print(f\">> Test set : {acc(search.score(XTest, YTest))}\")\n",
    "\n",
    "\n",
    "# hyperparameter_tuning_rfc2(X_train, Y_train, X_test, Y_test)\n",
    "# hyperparameter_tuning_rfc2(X_train_outlier, Y_train, X_test_outlier, Y_test)\n"
   ]
  },
  {
   "cell_type": "markdown",
   "metadata": {},
   "source": [
    "## Xây dựng Model"
   ]
  },
  {
   "cell_type": "code",
   "execution_count": 129,
   "metadata": {},
   "outputs": [
    {
     "name": "stdout",
     "output_type": "stream",
     "text": [
      "78.33 (%)\n",
      "78.33 (%)\n"
     ]
    }
   ],
   "source": [
    "def build_model(XTrain, YTrain, XTest, YTest, n_estimators, min_samples_leaf, max_depth):\n",
    "    model = RandomForestClassifier(\n",
    "        n_estimators=n_estimators, \n",
    "        max_depth=max_depth, \n",
    "        min_samples_leaf=min_samples_leaf,\n",
    "        random_state=0)\n",
    "        \n",
    "    model.fit(XTrain, YTrain)\n",
    "    predictions = model.predict(XTest)\n",
    "    score = accuracy_score(YTest, predictions)\n",
    "    print(acc(score))\n",
    "\n",
    "build_model(X_train, Y_train, X_test, Y_test, 15, 2, 188)\n",
    "build_model(X_train_outlier, Y_train, X_test_outlier, Y_test, 15, 2, 188)"
   ]
  }
 ],
 "metadata": {
  "interpreter": {
   "hash": "aee8b7b246df8f9039afb4144a1f6fd8d2ca17a180786b69acc140d282b71a49"
  },
  "kernelspec": {
   "display_name": "Python 3.9.7 64-bit",
   "language": "python",
   "name": "python3"
  },
  "language_info": {
   "codemirror_mode": {
    "name": "ipython",
    "version": 3
   },
   "file_extension": ".py",
   "mimetype": "text/x-python",
   "name": "python",
   "nbconvert_exporter": "python",
   "pygments_lexer": "ipython3",
   "version": "3.9.7"
  },
  "orig_nbformat": 4
 },
 "nbformat": 4,
 "nbformat_minor": 2
}
